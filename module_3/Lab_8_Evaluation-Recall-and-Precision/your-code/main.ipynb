{
 "cells": [
  {
   "cell_type": "markdown",
   "metadata": {},
   "source": [
    "# Evaluation: Precision & Recall\n",
    "## Using the evaluation metrics we have learned, we are going to compare how well some different types of classifiers perform on different evaluation metrics\n",
    "### We are going to use a dataset of written numbers which we can import from sklearn. Run the code below to do so. \n"
   ]
  },
  {
   "cell_type": "code",
   "execution_count": 13,
   "metadata": {},
   "outputs": [],
   "source": [
    "from sklearn.preprocessing import StandardScaler \n",
    "from sklearn.model_selection import train_test_split \n",
    "import matplotlib.pyplot as plt\n",
    "from sklearn.datasets import fetch_openml\n",
    "from sklearn.linear_model import LogisticRegression\n",
    "import numpy as np\n",
    "from sklearn.datasets import fetch_openml\n",
    "from sklearn.base import BaseEstimator\n",
    "X, y = fetch_openml(\"mnist_784\", version=1, return_X_y=True, as_frame=False, parser=\"pandas\")"
   ]
  },
  {
   "cell_type": "markdown",
   "metadata": {},
   "source": [
    "### Now take a look at the shapes of the X and y matricies "
   ]
  },
  {
   "cell_type": "code",
   "execution_count": 14,
   "metadata": {},
   "outputs": [
    {
     "name": "stdout",
     "output_type": "stream",
     "text": [
      "Shape of X: (70000, 784)\n",
      "Shape of y: (70000,)\n"
     ]
    }
   ],
   "source": [
    "# Print the shapes\n",
    "print(\"Shape of X:\", X.shape)\n",
    "print(\"Shape of y:\", y.shape)"
   ]
  },
  {
   "cell_type": "markdown",
   "metadata": {},
   "source": [
    "### Now, let's pick one entry and see what number is written. Use indexing to pick the 36000th digit"
   ]
  },
  {
   "cell_type": "code",
   "execution_count": 15,
   "metadata": {},
   "outputs": [
    {
     "name": "stdout",
     "output_type": "stream",
     "text": [
      "Label for the selected image: 9\n"
     ]
    }
   ],
   "source": [
    "# Indexing to pick the 36000th digit\n",
    "index = 36000\n",
    "\n",
    "# Get the image data and label\n",
    "selected_image = X[index]\n",
    "selected_label = y[index]\n",
    "\n",
    "print(\"Label for the selected image:\", selected_label)"
   ]
  },
  {
   "cell_type": "markdown",
   "metadata": {},
   "source": [
    "### You can use the .reshape(28,28) function and plt.imshow() function with the parameters cmap = matplotlib.cm.binary, interpolation=\"nearest\" to make a plot of the number. Be sure to import matplotlib!"
   ]
  },
  {
   "cell_type": "code",
   "execution_count": 16,
   "metadata": {},
   "outputs": [
    {
     "data": {
      "image/png": "[encoded data removed]",
      "text/plain": [
       "<Figure size 640x480 with 1 Axes>"
      ]
     },
     "metadata": {},
     "output_type": "display_data"
    }
   ],
   "source": [
    "# Get the image data and label\n",
    "selected_image = X[index].reshape(28, 28)\n",
    "selected_label = y[index]\n",
    "\n",
    "# Plotting the selected image\n",
    "plt.imshow(selected_image, cmap=plt.cm.binary, interpolation=\"nearest\")\n",
    "plt.title(f\"Label: {selected_label}\")\n",
    "plt.axis(\"off\")  # Turn off axis numbers and ticks\n",
    "plt.show()"
   ]
  },
  {
   "cell_type": "markdown",
   "metadata": {},
   "source": [
    "### Use indexing to see if what the plot shows matches with the outcome of the 36000th index"
   ]
  },
  {
   "cell_type": "code",
   "execution_count": 17,
   "metadata": {},
   "outputs": [
    {
     "data": {
      "image/png": "[encoded data removed]",
      "text/plain": [
       "<Figure size 640x480 with 1 Axes>"
      ]
     },
     "metadata": {},
     "output_type": "display_data"
    },
    {
     "name": "stdout",
     "output_type": "stream",
     "text": [
      "Displayed Label: 9\n"
     ]
    }
   ],
   "source": [
    "# Indexing to pick the 36000th digit\n",
    "index = 36000\n",
    "\n",
    "# Get the image data and label\n",
    "selected_image = X[index].reshape(28, 28)\n",
    "selected_label = y[index]\n",
    "\n",
    "# Plotting the selected image\n",
    "plt.imshow(selected_image, cmap=plt.cm.binary, interpolation=\"nearest\")\n",
    "plt.title(f\"Label: {selected_label}\")\n",
    "plt.axis(\"off\")  # Turn off axis numbers and ticks\n",
    "plt.show()\n",
    "\n",
    "# Check if the displayed label matches the actual label----> there s a match\n",
    "print(\"Displayed Label:\", selected_label)"
   ]
  },
  {
   "cell_type": "markdown",
   "metadata": {},
   "source": [
    "### Now lets break into a test train split to run a classification. Instead of using sklearn, use indexing to select the first 60000 entries for the training, and the rest for training."
   ]
  },
  {
   "cell_type": "code",
   "execution_count": 18,
   "metadata": {},
   "outputs": [
    {
     "name": "stdout",
     "output_type": "stream",
     "text": [
      "Shape of X_train: (60000, 784)\n",
      "Shape of y_train: (60000,)\n",
      "Shape of X_test: (10000, 784)\n",
      "Shape of y_test: (10000,)\n"
     ]
    }
   ],
   "source": [
    "# Splitting into train and test sets using indexing\n",
    "num_train_samples = 60000\n",
    "X_train = X[:num_train_samples]\n",
    "y_train = y[:num_train_samples]\n",
    "X_test = X[num_train_samples:]\n",
    "y_test = y[num_train_samples:]\n",
    "\n",
    "# Print the shapes of train and test sets\n",
    "print(\"Shape of X_train:\", X_train.shape)\n",
    "print(\"Shape of y_train:\", y_train.shape)\n",
    "print(\"Shape of X_test:\", X_test.shape)\n",
    "print(\"Shape of y_test:\", y_test.shape)"
   ]
  },
  {
   "cell_type": "markdown",
   "metadata": {},
   "source": [
    "### We are going to make a two-class classifier, so lets restrict to just one number, for example 5s. Do this by defining a new y training and y testing sets for just the number 5"
   ]
  },
  {
   "cell_type": "code",
   "execution_count": 19,
   "metadata": {},
   "outputs": [
    {
     "name": "stdout",
     "output_type": "stream",
     "text": [
      "Shape of y_train: (60000,)\n",
      "Shape of y_test: (10000,)\n"
     ]
    }
   ],
   "source": [
    "# Define the digit you want to classify (digit 5 in this case)\n",
    "digit_to_classify = '5'\n",
    "\n",
    "# Create y training and y testing sets for the specified digit\n",
    "y_train = (y[:60000] == digit_to_classify).astype(int)\n",
    "y_test = (y[60000:] == digit_to_classify).astype(int)\n",
    "\n",
    "# Print the shapes of y training and y testing sets\n",
    "print(\"Shape of y_train:\", y_train.shape)\n",
    "print(\"Shape of y_test:\", y_test.shape)"
   ]
  },
  {
   "cell_type": "markdown",
   "metadata": {},
   "source": [
    "### Lets train a logistic regression to predict if a number is a 5 or not (remember to use the 'just 5s' y training set!)"
   ]
  },
  {
   "cell_type": "code",
   "execution_count": 20,
   "metadata": {},
   "outputs": [
    {
     "name": "stdout",
     "output_type": "stream",
     "text": [
      "Prediction: [0]\n"
     ]
    }
   ],
   "source": [
    "\n",
    "# Define the digit you want to classify as 1 (digit 5 in this case)\n",
    "digit_to_classify = '5'\n",
    "\n",
    "# Create binary labels (1 for the specified digit, 0 for others)\n",
    "binary_labels = (y == digit_to_classify).astype(int)\n",
    "\n",
    "# Split the data into train and test sets\n",
    "X_train, X_test, y_train, y_test = train_test_split(X, binary_labels, test_size=0.2, random_state=42)\n",
    "\n",
    "# Scale the data\n",
    "scaler = StandardScaler()\n",
    "X_train_scaled = scaler.fit_transform(X_train)\n",
    "X_test_scaled = scaler.transform(X_test)\n",
    "\n",
    "# Step 1: Import the LogisticRegression model\n",
    "from sklearn.linear_model import LogisticRegression\n",
    "\n",
    "# Make an instance of the Model\n",
    "logisticRegr = LogisticRegression(solver='lbfgs', max_iter=1000)\n",
    "\n",
    "# Training the model on the data\n",
    "logisticRegr.fit(X_train_scaled, y_train)\n",
    "\n",
    "# Predict the labels of new data\n",
    "# Predict for One Observation (image)\n",
    "prediction = logisticRegr.predict(X_test_scaled[0].reshape(1, -1))\n",
    "print(\"Prediction:\", prediction)\n"
   ]
  },
  {
   "cell_type": "markdown",
   "metadata": {},
   "source": [
    "### Does the classifier predict correctly the 36000th digit we picked before?"
   ]
  },
  {
   "cell_type": "code",
   "execution_count": 21,
   "metadata": {},
   "outputs": [],
   "source": [
    "# yes its not a 5"
   ]
  },
  {
   "cell_type": "markdown",
   "metadata": {},
   "source": [
    "### To make some comparisons, we are going to make a very dumb classifier, that never predicts 5s. Build the classifier with the code below, and call it using: never_5_clf = Never5Classifier()"
   ]
  },
  {
   "cell_type": "code",
   "execution_count": 22,
   "metadata": {},
   "outputs": [],
   "source": [
    "from sklearn.base import BaseEstimator\n",
    "class Never5Classifier(BaseEstimator):\n",
    "    def fit(self, X, y=None):\n",
    "        pass\n",
    "    def predict(self, X):\n",
    "        return np.zeros((len(X), 1), dtype=bool)\n",
    "\n",
    "never_5_clf = Never5Classifier()"
   ]
  },
  {
   "cell_type": "markdown",
   "metadata": {},
   "source": [
    "### Now lets fit and predict on the testing set using our never 5 Classifier"
   ]
  },
  {
   "cell_type": "code",
   "execution_count": 24,
   "metadata": {},
   "outputs": [
    {
     "name": "stdout",
     "output_type": "stream",
     "text": [
      "Predictions: [[False]\n",
      " [False]\n",
      " [False]\n",
      " ...\n",
      " [False]\n",
      " [False]\n",
      " [False]]\n"
     ]
    }
   ],
   "source": [
    "\n",
    "# Using X_test_scaled from your previous code snippet\n",
    "predictions = never_5_clf.predict(X_test_scaled)\n",
    "\n",
    "print(\"Predictions:\", predictions)\n"
   ]
  },
  {
   "cell_type": "markdown",
   "metadata": {},
   "source": [
    "### Let's compare this to the Logistic Regression. Examine the confusion matrix, precision, recall, and f1_scores for each. What is the probability cutoff you are using to decide the classes?"
   ]
  },
  {
   "cell_type": "code",
   "execution_count": 26,
   "metadata": {},
   "outputs": [
    {
     "name": "stdout",
     "output_type": "stream",
     "text": [
      "Never5Classifier:\n",
      "Confusion Matrix:\n",
      " [[12727     0]\n",
      " [ 1273     0]]\n",
      "Precision: 1.0\n",
      "Recall: 0.0\n",
      "F1-Score: 0.0\n",
      "\n",
      "Logistic Regression:\n",
      "Confusion Matrix:\n",
      " [[12601   126]\n",
      " [  230  1043]]\n",
      "Precision: 0.8922155688622755\n",
      "Recall: 0.819324430479183\n",
      "F1-Score: 0.8542178542178541\n"
     ]
    }
   ],
   "source": [
    "from sklearn.metrics import confusion_matrix, precision_score, recall_score, f1_score\n",
    "\n",
    "# Predictions from the Never5Classifier\n",
    "never_5_predictions = never_5_clf.predict(X_test_scaled)\n",
    "\n",
    "# Predictions from the LogisticRegression model\n",
    "logistic_predictions = logisticRegr.predict(X_test_scaled)\n",
    "\n",
    "# Calculate confusion matrix\n",
    "never_5_confusion = confusion_matrix(y_test, never_5_predictions)\n",
    "logistic_confusion = confusion_matrix(y_test, logistic_predictions)\n",
    "\n",
    "# Calculate precision\n",
    "never_5_precision = precision_score(y_test, never_5_predictions, zero_division=1)#----> so the code will not emit the undefined metric warning\n",
    "logistic_precision = precision_score(y_test, logistic_predictions)\n",
    "\n",
    "# Calculate recall\n",
    "never_5_recall = recall_score(y_test, never_5_predictions)\n",
    "logistic_recall = recall_score(y_test, logistic_predictions)\n",
    "\n",
    "# Calculate F1-score\n",
    "never_5_f1 = f1_score(y_test, never_5_predictions)\n",
    "logistic_f1 = f1_score(y_test, logistic_predictions)\n",
    "\n",
    "# Print the results\n",
    "print(\"Never5Classifier:\")\n",
    "print(\"Confusion Matrix:\\n\", never_5_confusion)\n",
    "print(\"Precision:\", never_5_precision)\n",
    "print(\"Recall:\", never_5_recall)\n",
    "print(\"F1-Score:\", never_5_f1)\n",
    "print()\n",
    "\n",
    "print(\"Logistic Regression:\")\n",
    "print(\"Confusion Matrix:\\n\", logistic_confusion)\n",
    "print(\"Precision:\", logistic_precision)\n",
    "print(\"Recall:\", logistic_recall)\n",
    "print(\"F1-Score:\", logistic_f1)\n"
   ]
  },
  {
   "cell_type": "markdown",
   "metadata": {},
   "source": [
    "### What are the differences you see? Without knowing what each model is, what can these metrics tell you about how well each works?"
   ]
  },
  {
   "cell_type": "code",
   "execution_count": null,
   "metadata": {},
   "outputs": [],
   "source": [
    "#The LogisticRegression model performs significantly better than the Never5Classifier because it has non-zero recall and is able to capture and predict actual digit 5 instances.\n",
    "#There is still room for improvement in terms of both precision and recall. \n",
    "#The Never5Classifier is essentially a non-informative baseline and its high precision is misleading due to not predicting any positive instances."
   ]
  },
  {
   "cell_type": "markdown",
   "metadata": {},
   "source": [
    "### Now let's examine the roc_curve for each. Use the roc_curve method from sklearn.metrics to help plot the curve for each"
   ]
  },
  {
   "cell_type": "code",
   "execution_count": 28,
   "metadata": {},
   "outputs": [
    {
     "data": {
      "image/png": "[encoded data removed]",
      "text/plain": [
       "<Figure size 1000x600 with 1 Axes>"
      ]
     },
     "metadata": {},
     "output_type": "display_data"
    }
   ],
   "source": [
    "import matplotlib.pyplot as plt\n",
    "from sklearn.metrics import roc_curve, roc_auc_score\n",
    "\n",
    "# Calculate the ROC curve for the LogisticRegression model\n",
    "logistic_probs = logisticRegr.predict_proba(X_test_scaled)[:, 1]  # Probabilities for class 1\n",
    "logistic_fpr, logistic_tpr, _ = roc_curve(y_test, logistic_probs)\n",
    "logistic_auc = roc_auc_score(y_test, logistic_probs)\n",
    "\n",
    "# Plot the ROC curves\n",
    "plt.figure(figsize=(10, 6))\n",
    "plt.plot(logistic_fpr, logistic_tpr, label=f'Logistic Regression (AUC = {logistic_auc:.2f})')\n",
    "plt.plot([0, 1], [0, 1], 'k--')  # Diagonal line for random classifier\n",
    "plt.xlabel('False Positive Rate')\n",
    "plt.ylabel('True Positive Rate')\n",
    "plt.title('ROC Curve')\n",
    "plt.legend()\n",
    "plt.show()\n"
   ]
  },
  {
   "cell_type": "markdown",
   "metadata": {},
   "source": [
    "### Now find the roc_auc_score for each. "
   ]
  },
  {
   "cell_type": "code",
   "execution_count": 29,
   "metadata": {},
   "outputs": [
    {
     "name": "stdout",
     "output_type": "stream",
     "text": [
      "Logistic Regression ROC AUC Score: 0.9763298036332628\n"
     ]
    }
   ],
   "source": [
    "from sklearn.metrics import roc_auc_score\n",
    "\n",
    "# Calculate ROC AUC score for the LogisticRegression model\n",
    "logistic_auc = roc_auc_score(y_test, logistic_probs)\n",
    "\n",
    "# Print ROC AUC score for the LogisticRegression model\n",
    "print(\"Logistic Regression ROC AUC Score:\", logistic_auc)\n"
   ]
  },
  {
   "cell_type": "markdown",
   "metadata": {},
   "source": [
    "### What does this metric tell you? Which classifier works better with this metric in mind?"
   ]
  },
  {
   "cell_type": "code",
   "execution_count": null,
   "metadata": {},
   "outputs": [],
   "source": [
    "# The high ROC AUC score indicates that the Logistic Regression model has a strong ability to distinguish between the two classes. "
   ]
  }
 ],
 "metadata": {
  "kernelspec": {
   "display_name": "Python 3",
   "language": "python",
   "name": "python3"
  },
  "language_info": {
   "codemirror_mode": {
    "name": "ipython",
    "version": 3
   },
   "file_extension": ".py",
   "mimetype": "text/x-python",
   "name": "python",
   "nbconvert_exporter": "python",
   "pygments_lexer": "ipython3",
   "version": "3.11.4"
  }
 },
 "nbformat": 4,
 "nbformat_minor": 2
}
