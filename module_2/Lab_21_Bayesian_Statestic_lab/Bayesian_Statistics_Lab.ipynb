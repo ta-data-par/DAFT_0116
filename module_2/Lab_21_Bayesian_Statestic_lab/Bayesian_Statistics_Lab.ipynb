{
 "cells": [
  {
   "cell_type": "markdown",
   "metadata": {},
   "source": [
    "# Intro to Bayesian Statistics Lab\n",
    "\n",
    "Complete the following set of exercises to solidify your knowledge of Bayesian statistics and Bayesian data analysis."
   ]
  },
  {
   "cell_type": "code",
   "execution_count": 2,
   "metadata": {},
   "outputs": [],
   "source": [
    "import pandas as pd\n",
    "import numpy as np\n",
    "import matplotlib.pyplot as plt"
   ]
  },
  {
   "cell_type": "markdown",
   "metadata": {},
   "source": [
    "## 1. Cookie Problem\n",
    "\n",
    "Suppose we have two bowls of cookies. Bowl 1 contains 30 vanilla cookies and 10 chocolate cookies. Bowl 2 contains 20 of each. You randomly pick one cookie out of one of the bowls, and it is vanilla. Use Bayes Theorem to calculate the probability that the vanilla cookie you picked came from Bowl 1?"
   ]
  },
  {
   "cell_type": "code",
   "execution_count": 3,
   "metadata": {},
   "outputs": [
    {
     "name": "stdout",
     "output_type": "stream",
     "text": [
      "Probability that the vanilla cookie came from Bowl 1: 0.6\n"
     ]
    }
   ],
   "source": [
    "# Given probabilities\n",
    "\n",
    "p_b_given_a = 3/4 # 1 bowl 30 vanilla cookies and 10 chocolates = 40 cookies / 30/40 = 1/4\n",
    "p_a = 1/2 # as there s 2 bowls = 50 % = 1/2\n",
    "p_b_given_not_a = 1/2 #if cookie pick in bowl 2 / bowls 2 contains 20 of each / 50 % chance = 1/2\n",
    "p_not_a = 1/2  # as well 50 % chance not pick\n",
    "\n",
    "# Calculate total probability of picking a vanilla cookie\n",
    "p_b = p_b_given_a * p_a + p_b_given_not_a * p_not_a\n",
    "\n",
    "# Calculate the probability of picking from Bowl 1 given a vanilla cookie\n",
    "p_a_given_b = (p_b_given_a * p_a) / p_b\n",
    "\n",
    "print(\"Probability that the vanilla cookie came from Bowl 1:\", p_a_given_b)\n"
   ]
  },
  {
   "cell_type": "code",
   "execution_count": null,
   "metadata": {},
   "outputs": [],
   "source": [
    "\n"
   ]
  },
  {
   "cell_type": "code",
   "execution_count": null,
   "metadata": {},
   "outputs": [],
   "source": []
  },
  {
   "cell_type": "code",
   "execution_count": null,
   "metadata": {},
   "outputs": [],
   "source": []
  },
  {
   "cell_type": "code",
   "execution_count": null,
   "metadata": {},
   "outputs": [],
   "source": []
  },
  {
   "cell_type": "code",
   "execution_count": null,
   "metadata": {},
   "outputs": [],
   "source": []
  },
  {
   "cell_type": "markdown",
   "metadata": {},
   "source": [
    "What is the probability that it came from Bowl 2?"
   ]
  },
  {
   "cell_type": "code",
   "execution_count": 5,
   "metadata": {},
   "outputs": [
    {
     "name": "stdout",
     "output_type": "stream",
     "text": [
      "Probability that the vanilla cookie came from Bowl 2: 0.4\n"
     ]
    }
   ],
   "source": [
    "# Calculate the probability that it came from Bowl 2\n",
    "p_bowl_2_given_vanilla = 1 - p_a_given_b\n",
    "\n",
    "print(\"Probability that the vanilla cookie came from Bowl 2:\", p_bowl_2_given_vanilla)\n"
   ]
  },
  {
   "cell_type": "markdown",
   "metadata": {},
   "source": [
    "What if the cookie you had picked was chocolate? What are the probabilities that the chocolate cookie came from Bowl 1 and Bowl 2 respectively?"
   ]
  },
  {
   "cell_type": "code",
   "execution_count": null,
   "metadata": {},
   "outputs": [],
   "source": []
  },
  {
   "cell_type": "markdown",
   "metadata": {},
   "source": [
    "## 2. Candy Problem\n",
    "\n",
    "Suppose you have two bags of candies:\n",
    "\n",
    "- In Bag 1, the mix of colors is:\n",
    "    - Brown - 30%\n",
    "    - Yellow - 20%\n",
    "    - Red - 20%\n",
    "    - Green - 10%\n",
    "    - Orange - 10%\n",
    "    - Tan - 10%\n",
    "    \n",
    "- In Bag 2, the mix of colors is:\n",
    "    - Blue - 24%\n",
    "    - Green - 20%\n",
    "    - Orange - 16%\n",
    "    - Yellow - 14%\n",
    "    - Red - 13%\n",
    "    - Brown - 13%\n",
    "    \n",
    "Not knowing which bag is which, you randomly draw one candy from each bag. One is yellow and one is green. What is the probability that the yellow one came from the Bag 1?\n",
    "\n",
    "*Hint: For the likelihoods, you will need to multiply the probabilities of drawing yellow from one bag and green from the other bag and vice versa.*"
   ]
  },
  {
   "cell_type": "code",
   "execution_count": null,
   "metadata": {},
   "outputs": [],
   "source": []
  },
  {
   "cell_type": "markdown",
   "metadata": {},
   "source": [
    "What is the probability that the yellow candy came from Bag 2?"
   ]
  },
  {
   "cell_type": "code",
   "execution_count": 7,
   "metadata": {},
   "outputs": [
    {
     "name": "stdout",
     "output_type": "stream",
     "text": [
      "Probability that the yellow candy came from Bag 2: 0.25925925925925924\n"
     ]
    }
   ],
   "source": [
    "# Given probabilities for Bag 1\n",
    "p_yellow_bag1 = 0.2\n",
    "p_green_bag1 = 0.1\n",
    "p_orange_bag1 = 0.1\n",
    "p_red_bag1 = 0.2\n",
    "p_brown_bag1 = 0.3\n",
    "p_tan_bag1 = 0.1\n",
    "\n",
    "# Given probabilities for Bag 2\n",
    "p_yellow_bag2 = 0.14\n",
    "p_green_bag2 = 0.2\n",
    "p_orange_bag2 = 0.16\n",
    "p_red_bag2 = 0.13\n",
    "p_brown_bag2 = 0.13\n",
    "p_blue_bag2 = 0.24\n",
    "\n",
    "# Total probabilities for each bag\n",
    "p_bag1 = 0.5\n",
    "p_bag2 = 0.5\n",
    "\n",
    "# Calculate the probability of picking a yellow candy from Bag 2\n",
    "p_yellow = (p_yellow_bag1 * p_bag1 * p_green_bag2 * p_bag2) + (p_green_bag1 * p_bag1 * p_yellow_bag2 * p_bag2) + \\\n",
    "           (p_orange_bag1 * p_bag1 * p_blue_bag2 * p_bag2) + (p_blue_bag2 * p_bag2 * p_orange_bag1 * p_bag1) + \\\n",
    "           (p_red_bag1 * p_bag1 * p_blue_bag2 * p_bag2) + (p_blue_bag2 * p_bag2 * p_red_bag1 * p_bag1) + \\\n",
    "           (p_brown_bag1 * p_bag1 * p_blue_bag2 * p_bag2) + (p_blue_bag2 * p_bag2 * p_brown_bag1 * p_bag1) + \\\n",
    "           (p_tan_bag1 * p_bag1 * p_blue_bag2 * p_bag2) + (p_blue_bag2 * p_bag2 * p_tan_bag1 * p_bag1)\n",
    "\n",
    "p_bag2_given_yellow = (p_yellow_bag2 * p_bag2 * p_green_bag1 * p_bag1) / p_yellow\n",
    "\n",
    "print(\"Probability that the yellow candy came from Bag 2:\", p_bag2_given_yellow)\n"
   ]
  },
  {
   "cell_type": "markdown",
   "metadata": {},
   "source": [
    "What are the probabilities that the green one came from Bag 1 and Bag 2 respectively?"
   ]
  },
  {
   "cell_type": "code",
   "execution_count": null,
   "metadata": {},
   "outputs": [],
   "source": []
  },
  {
   "cell_type": "markdown",
   "metadata": {},
   "source": [
    "## 3. Monty Hall Problem\n",
    "\n",
    "Suppose you are a contestant on the popular game show *Let's Make a Deal*. The host of the show (Monty Hall) presents you with three doors - Door A, Door B, and Door C. He tells you that there is a sports car behind one of them and if you choose the correct one, you win the car!\n",
    "\n",
    "You select Door A, but then Monty makes things a little more interesting. He opens Door B to reveal that there is no sports car behind it and asks you if you would like to stick with your choice of Door A or switch your choice to Door C. Given this new information, what are the probabilities of you winning the car if you stick with Door A versus if you switch to Door C?"
   ]
  },
  {
   "cell_type": "code",
   "execution_count": null,
   "metadata": {},
   "outputs": [],
   "source": []
  },
  {
   "cell_type": "markdown",
   "metadata": {},
   "source": [
    "## 4. Bayesian Analysis \n",
    "\n",
    "Suppose you work for a landscaping company, and they want to advertise their service online. They create an ad and sit back waiting for the money to roll in. On the first day, the ad sends 100 visitors to the site and 14 of them sign up for landscaping services. Create a generative model to come up with the posterior distribution and produce a visualization of what the posterior distribution would look like given the observed data."
   ]
  },
  {
   "cell_type": "code",
   "execution_count": null,
   "metadata": {},
   "outputs": [],
   "source": []
  },
  {
   "cell_type": "markdown",
   "metadata": {},
   "source": [
    "Produce a set of descriptive statistics for the posterior distribution."
   ]
  },
  {
   "cell_type": "code",
   "execution_count": null,
   "metadata": {},
   "outputs": [],
   "source": []
  },
  {
   "cell_type": "markdown",
   "metadata": {},
   "source": [
    "What is the 90% credible interval range?"
   ]
  },
  {
   "cell_type": "code",
   "execution_count": null,
   "metadata": {},
   "outputs": [],
   "source": []
  },
  {
   "cell_type": "markdown",
   "metadata": {},
   "source": [
    "What is the Maximum Likelihood Estimate?"
   ]
  },
  {
   "cell_type": "code",
   "execution_count": null,
   "metadata": {},
   "outputs": [],
   "source": []
  }
 ],
 "metadata": {
  "kernelspec": {
   "display_name": "Python 3",
   "language": "python",
   "name": "python3"
  },
  "language_info": {
   "codemirror_mode": {
    "name": "ipython",
    "version": 3
   },
   "file_extension": ".py",
   "mimetype": "text/x-python",
   "name": "python",
   "nbconvert_exporter": "python",
   "pygments_lexer": "ipython3",
   "version": "3.11.4"
  }
 },
 "nbformat": 4,
 "nbformat_minor": 2
}
