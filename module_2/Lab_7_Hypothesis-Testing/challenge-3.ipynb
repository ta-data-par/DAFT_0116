{
 "cells": [
  {
   "cell_type": "markdown",
   "metadata": {},
   "source": [
    "# Before your start:\n",
    "- Read the README.md file\n",
    "- Comment as much as you can and use the resources (README.md file)\n",
    "- Happy learning!"
   ]
  },
  {
   "cell_type": "code",
   "execution_count": 68,
   "metadata": {},
   "outputs": [],
   "source": [
    "# import numpy and pandas\n",
    "import numpy as np\n",
    "import pandas as pd\n",
    "from scipy.stats import ttest_ind\n",
    "from scipy.stats import ttest_1samp\n",
    "from scipy.stats import chi2_contingency\n",
    "from statsmodels.stats.proportion import proportions_ztest"
   ]
  },
  {
   "cell_type": "markdown",
   "metadata": {},
   "source": [
    "# Challenge 1 - Exploring the Data\n",
    "\n",
    "In this challenge, we will examine all salaries of employees of the City of Chicago. We will start by loading the dataset and examining its contents. Please, load the data using Ironhack's database (db: employees, table: employees_advanced)."
   ]
  },
  {
   "cell_type": "code",
   "execution_count": 69,
   "metadata": {},
   "outputs": [
    {
     "data": {
      "text/html": [
       "<div>\n",
       "<style scoped>\n",
       "    .dataframe tbody tr th:only-of-type {\n",
       "        vertical-align: middle;\n",
       "    }\n",
       "\n",
       "    .dataframe tbody tr th {\n",
       "        vertical-align: top;\n",
       "    }\n",
       "\n",
       "    .dataframe thead th {\n",
       "        text-align: right;\n",
       "    }\n",
       "</style>\n",
       "<table border=\"1\" class=\"dataframe\">\n",
       "  <thead>\n",
       "    <tr style=\"text-align: right;\">\n",
       "      <th></th>\n",
       "      <th>Name</th>\n",
       "      <th>Job Titles</th>\n",
       "      <th>Department</th>\n",
       "      <th>Full or Part-Time</th>\n",
       "      <th>Salary or Hourly</th>\n",
       "      <th>Typical Hours</th>\n",
       "      <th>Annual Salary</th>\n",
       "      <th>Hourly Rate</th>\n",
       "    </tr>\n",
       "  </thead>\n",
       "  <tbody>\n",
       "    <tr>\n",
       "      <th>0</th>\n",
       "      <td>AARON,  JEFFERY M</td>\n",
       "      <td>SERGEANT</td>\n",
       "      <td>POLICE</td>\n",
       "      <td>F</td>\n",
       "      <td>Salary</td>\n",
       "      <td>NaN</td>\n",
       "      <td>101442.0</td>\n",
       "      <td>NaN</td>\n",
       "    </tr>\n",
       "    <tr>\n",
       "      <th>1</th>\n",
       "      <td>AARON,  KARINA</td>\n",
       "      <td>POLICE OFFICER (ASSIGNED AS DETECTIVE)</td>\n",
       "      <td>POLICE</td>\n",
       "      <td>F</td>\n",
       "      <td>Salary</td>\n",
       "      <td>NaN</td>\n",
       "      <td>94122.0</td>\n",
       "      <td>NaN</td>\n",
       "    </tr>\n",
       "    <tr>\n",
       "      <th>2</th>\n",
       "      <td>AARON,  KIMBERLEI R</td>\n",
       "      <td>CHIEF CONTRACT EXPEDITER</td>\n",
       "      <td>GENERAL SERVICES</td>\n",
       "      <td>F</td>\n",
       "      <td>Salary</td>\n",
       "      <td>NaN</td>\n",
       "      <td>101592.0</td>\n",
       "      <td>NaN</td>\n",
       "    </tr>\n",
       "    <tr>\n",
       "      <th>3</th>\n",
       "      <td>ABAD JR,  VICENTE M</td>\n",
       "      <td>CIVIL ENGINEER IV</td>\n",
       "      <td>WATER MGMNT</td>\n",
       "      <td>F</td>\n",
       "      <td>Salary</td>\n",
       "      <td>NaN</td>\n",
       "      <td>110064.0</td>\n",
       "      <td>NaN</td>\n",
       "    </tr>\n",
       "    <tr>\n",
       "      <th>4</th>\n",
       "      <td>ABASCAL,  REECE E</td>\n",
       "      <td>TRAFFIC CONTROL AIDE-HOURLY</td>\n",
       "      <td>OEMC</td>\n",
       "      <td>P</td>\n",
       "      <td>Hourly</td>\n",
       "      <td>20.0</td>\n",
       "      <td>NaN</td>\n",
       "      <td>19.86</td>\n",
       "    </tr>\n",
       "  </tbody>\n",
       "</table>\n",
       "</div>"
      ],
      "text/plain": [
       "                  Name                              Job Titles  \\\n",
       "0    AARON,  JEFFERY M                                SERGEANT   \n",
       "1      AARON,  KARINA   POLICE OFFICER (ASSIGNED AS DETECTIVE)   \n",
       "2  AARON,  KIMBERLEI R                CHIEF CONTRACT EXPEDITER   \n",
       "3  ABAD JR,  VICENTE M                       CIVIL ENGINEER IV   \n",
       "4    ABASCAL,  REECE E             TRAFFIC CONTROL AIDE-HOURLY   \n",
       "\n",
       "         Department Full or Part-Time Salary or Hourly  Typical Hours  \\\n",
       "0            POLICE                 F           Salary            NaN   \n",
       "1            POLICE                 F           Salary            NaN   \n",
       "2  GENERAL SERVICES                 F           Salary            NaN   \n",
       "3       WATER MGMNT                 F           Salary            NaN   \n",
       "4              OEMC                 P           Hourly           20.0   \n",
       "\n",
       "   Annual Salary  Hourly Rate  \n",
       "0       101442.0          NaN  \n",
       "1        94122.0          NaN  \n",
       "2       101592.0          NaN  \n",
       "3       110064.0          NaN  \n",
       "4            NaN        19.86  "
      ]
     },
     "metadata": {},
     "output_type": "display_data"
    }
   ],
   "source": [
    "\n",
    "# Your code here:\n",
    "\n",
    "data = pd.read_csv('Employees_advanced.csv')\n",
    "\n",
    "\n",
    "display (data.head())\n"
   ]
  },
  {
   "cell_type": "markdown",
   "metadata": {},
   "source": [
    "Examine the `salaries` dataset using the `head` function below.\n",
    "\n",
    "there s invalid values"
   ]
  },
  {
   "cell_type": "markdown",
   "metadata": {},
   "source": [
    "We see from looking at the `head` function that there is quite a bit of missing data. Let's examine how much missing data is in each column. Produce this output in the cell below"
   ]
  },
  {
   "cell_type": "code",
   "execution_count": 70,
   "metadata": {},
   "outputs": [
    {
     "data": {
      "text/plain": [
       "Name                     0\n",
       "Job Titles               0\n",
       "Department               0\n",
       "Full or Part-Time        0\n",
       "Salary or Hourly         0\n",
       "Typical Hours        25161\n",
       "Annual Salary         8022\n",
       "Hourly Rate          25161\n",
       "dtype: int64"
      ]
     },
     "metadata": {},
     "output_type": "display_data"
    }
   ],
   "source": [
    "# Count the missing values in each column\n",
    "missing_data_counts = data.isnull().sum()\n",
    "\n",
    "# Display the result\n",
    "\n",
    "display (missing_data_counts)\n"
   ]
  },
  {
   "cell_type": "markdown",
   "metadata": {},
   "source": [
    "Let's also look at the count of hourly vs. salaried employees. Write the code in the cell below"
   ]
  },
  {
   "cell_type": "code",
   "execution_count": 71,
   "metadata": {},
   "outputs": [
    {
     "data": {
      "text/plain": [
       "Salary or Hourly\n",
       "Salary    25161\n",
       "Hourly     8022\n",
       "Name: count, dtype: int64"
      ]
     },
     "metadata": {},
     "output_type": "display_data"
    }
   ],
   "source": [
    "# Your code here:\n",
    "\n",
    "# Count the number of hourly and salaried employees\n",
    "employee_counts = data['Salary or Hourly'].value_counts()\n",
    "\n",
    "# Display the counts\n",
    "display (employee_counts)\n",
    "\n",
    "\n"
   ]
  },
  {
   "cell_type": "markdown",
   "metadata": {},
   "source": [
    "What this information indicates is that the table contains information about two types of employees - salaried and hourly. Some columns apply only to one type of employee while other columns only apply to another kind. This is why there are so many missing values. Therefore, we will not do anything to handle the missing values."
   ]
  },
  {
   "cell_type": "markdown",
   "metadata": {},
   "source": [
    "There are different departments in the city. List all departments and the count of employees in each department."
   ]
  },
  {
   "cell_type": "code",
   "execution_count": 72,
   "metadata": {},
   "outputs": [
    {
     "name": "stdout",
     "output_type": "stream",
     "text": [
      "Department\n",
      "ADMIN HEARNG                39\n",
      "ANIMAL CONTRL               81\n",
      "AVIATION                  1629\n",
      "BOARD OF ELECTION          107\n",
      "BOARD OF ETHICS              8\n",
      "BUDGET & MGMT               46\n",
      "BUILDINGS                  269\n",
      "BUSINESS AFFAIRS           171\n",
      "CITY CLERK                  84\n",
      "CITY COUNCIL               411\n",
      "COMMUNITY DEVELOPMENT      207\n",
      "COPA                       116\n",
      "CULTURAL AFFAIRS            65\n",
      "DISABILITIES                28\n",
      "DoIT                        99\n",
      "FAMILY & SUPPORT           615\n",
      "FINANCE                    560\n",
      "FIRE                      4641\n",
      "GENERAL SERVICES           980\n",
      "HEALTH                     488\n",
      "HUMAN RELATIONS             16\n",
      "HUMAN RESOURCES             79\n",
      "INSPECTOR GEN               87\n",
      "LAW                        407\n",
      "LICENSE APPL COMM            1\n",
      "MAYOR'S OFFICE              85\n",
      "OEMC                      2102\n",
      "POLICE                   13414\n",
      "POLICE BOARD                 2\n",
      "PROCUREMENT                 92\n",
      "PUBLIC LIBRARY            1015\n",
      "STREETS & SAN             2198\n",
      "TRANSPORTN                1140\n",
      "TREASURER                   22\n",
      "WATER MGMNT               1879\n",
      "dtype: int64\n"
     ]
    }
   ],
   "source": [
    "# Group the data by 'Department' and calculate the size (count) of employees in each department\n",
    "department_counts = data.groupby('Department').size()\n",
    "\n",
    "# Display the departments and the count of employees in each department\n",
    "print(department_counts)"
   ]
  },
  {
   "cell_type": "markdown",
   "metadata": {},
   "source": [
    "# Challenge 2 - Hypothesis Tests\n",
    "\n",
    "In this section of the lab, we will test whether the hourly wage of all hourly workers is significantly different from $30/hr. Import the correct one sample test function from scipy and perform the hypothesis test for a 95% two sided confidence interval."
   ]
  },
  {
   "cell_type": "code",
   "execution_count": 73,
   "metadata": {},
   "outputs": [
    {
     "name": "stdout",
     "output_type": "stream",
     "text": [
      "The hourly wage of all hourly workers is not significantly different from $30/hr.\n"
     ]
    }
   ],
   "source": [
    "# Assuming the 'Hourly Rate' column contains the hourly wage data\n",
    "hourly_wages = data['Hourly Rate']\n",
    "\n",
    "# The hypothesized mean wage ($30/hr in this case)\n",
    "hypothesized_mean = 30\n",
    "\n",
    "# Perform the t-test\n",
    "t_statistic, p_value = ttest_1samp(hourly_wages, hypothesized_mean)\n",
    "\n",
    "# Define the significance level (alpha) for the confidence interval (95% in this case)\n",
    "alpha = 0.05\n",
    "\n",
    "# Check if the p-value is less than the significance level\n",
    "if p_value < alpha:\n",
    "    print(\"The hourly wage of all hourly workers is significantly different from $30/hr.\")\n",
    "else:\n",
    "    print(\"The hourly wage of all hourly workers is not significantly different from $30/hr.\")\n"
   ]
  },
  {
   "cell_type": "markdown",
   "metadata": {},
   "source": [
    "We are also curious about salaries in the police force. The chief of police in Chicago claimed in a press briefing that salaries this year are higher than last year's mean of $86000/year a year for all salaried employees. Test this one sided hypothesis using a 95% confidence interval.\n",
    "\n",
    "Hint: A one tailed test has a p-value that is half of the two tailed p-value. If our hypothesis is greater than, then to reject, the test statistic must also be positive."
   ]
  },
  {
   "cell_type": "code",
   "execution_count": 74,
   "metadata": {},
   "outputs": [
    {
     "name": "stdout",
     "output_type": "stream",
     "text": [
      "The salaries in the police force are not significantly higher than last year's mean of $86000/year.\n"
     ]
    }
   ],
   "source": [
    "# Assuming the 'Annual Salary' column contains the salary data for all employees\n",
    "all_salaries = data['Annual Salary']\n",
    "\n",
    "# Filter the data to include only employees in the police department\n",
    "police_salaries = all_salaries[data['Department'] == 'POLICE']\n",
    "\n",
    "# The hypothesized mean salary ($86000/year in this case)\n",
    "hypothesized_mean = 86000\n",
    "\n",
    "# Perform the one-sample one-tailed t-test\n",
    "t_statistic, p_value = ttest_1samp(police_salaries, hypothesized_mean, alternative='greater')\n",
    "\n",
    "# Divide the p-value by 2 for one-tailed test\n",
    "p_value_one_tailed = p_value / 2\n",
    "\n",
    "# Define the significance level (alpha) for the confidence interval (95% in this case)\n",
    "alpha = 0.05\n",
    "\n",
    "# Check if the one-tailed p-value is less than the significance level\n",
    "if p_value_one_tailed < alpha and t_statistic > 0:\n",
    "    print(\"The salaries in the police force are significantly higher than last year's mean of $86000/year.\")\n",
    "else:\n",
    "    print(\"The salaries in the police force are not significantly higher than last year's mean of $86000/year.\")\n"
   ]
  },
  {
   "cell_type": "markdown",
   "metadata": {},
   "source": [
    "Using the `crosstab` function, find the department that has the most hourly workers. "
   ]
  },
  {
   "cell_type": "code",
   "execution_count": 75,
   "metadata": {},
   "outputs": [
    {
     "name": "stdout",
     "output_type": "stream",
     "text": [
      "The department with the most hourly workers is: STREETS & SAN\n"
     ]
    }
   ],
   "source": [
    "\n",
    "\n",
    "# Filter the data to include only hourly workers\n",
    "hourly_workers = data[data['Salary or Hourly'] == 'Hourly']\n",
    "\n",
    "# Group the data by 'Department' and count the number of hourly workers in each department\n",
    "hourly_workers_count = hourly_workers.groupby('Department').size()\n",
    "\n",
    "# Find the department with the most hourly workers\n",
    "department_with_most_hourly_workers = hourly_workers_count.idxmax()\n",
    "\n",
    "# Print the result\n",
    "print(f\"The department with the most hourly workers is: {department_with_most_hourly_workers}\")\n",
    "\n"
   ]
  },
  {
   "cell_type": "markdown",
   "metadata": {},
   "source": [
    "The workers from the department with the most hourly workers have complained that their hourly wage is less than $35/hour. Using a one sample t-test, test this one-sided hypothesis at the 95% confidence level."
   ]
  },
  {
   "cell_type": "code",
   "execution_count": 76,
   "metadata": {},
   "outputs": [
    {
     "name": "stdout",
     "output_type": "stream",
     "text": [
      "The hourly wage of workers from the department with the most hourly workers is significantly less than $35/hour.\n"
     ]
    }
   ],
   "source": [
    "\n",
    "# Filter the data to include only hourly workers\n",
    "hourly_workers = data[data['Salary or Hourly'] == 'Hourly']\n",
    "\n",
    "# Filter the data to include only the department with the most hourly workers\n",
    "most_hourly_department = hourly_workers['Department'].value_counts().idxmax()\n",
    "hourly_workers_most_department = hourly_workers[hourly_workers['Department'] == most_hourly_department]\n",
    "\n",
    "# Assuming the 'Hourly Rate' column contains the hourly wage data for the department with the most hourly workers\n",
    "hourly_wages_most_department = hourly_workers_most_department['Hourly Rate']\n",
    "\n",
    "# The hypothesized hourly wage ($35/hour in this case)\n",
    "hypothesized_mean = 35\n",
    "\n",
    "# Perform the one-sample one-tailed t-test\n",
    "t_statistic, p_value = ttest_1samp(hourly_wages_most_department, hypothesized_mean, alternative='less')\n",
    "\n",
    "# Define the significance level (alpha) for the confidence interval (95% in this case)\n",
    "alpha = 0.05\n",
    "\n",
    "# Check if the one-tailed p-value is less than the significance level\n",
    "if p_value < alpha and t_statistic < 0:\n",
    "    print(\"The hourly wage of workers from the department with the most hourly workers is significantly less than $35/hour.\")\n",
    "else:\n",
    "    print(\"The hourly wage of workers from the department with the most hourly workers is not significantly less than $35/hour.\")\n",
    "\n",
    "\n"
   ]
  },
  {
   "cell_type": "markdown",
   "metadata": {},
   "source": [
    "# Challenge 3: To practice - Constructing Confidence Intervals\n",
    "\n",
    "While testing our hypothesis is a great way to gather empirical evidence for accepting or rejecting the hypothesis, another way to gather evidence is by creating a confidence interval. A confidence interval gives us information about the true mean of the population. So for a 95% confidence interval, we are 95% sure that the mean of the population is within the confidence interval. \n",
    ").\n",
    "\n",
    "To read more about confidence intervals, click [here](https://en.wikipedia.org/wiki/Confidence_interval).\n",
    "\n",
    "\n",
    "In the cell below, we will construct a 95% confidence interval for the mean hourly wage of all hourly workers. \n",
    "\n",
    "The confidence interval is computed in SciPy using the `t.interval` function. You can read more about this function [here](https://docs.scipy.org/doc/scipy-0.14.0/reference/generated/scipy.stats.t.html).\n",
    "\n",
    "To compute the confidence interval of the hourly wage, use the 0.95 for the confidence level, number of rows - 1 for degrees of freedom, the mean of the sample for the location parameter and the standard error for the scale. The standard error can be computed using [this](https://docs.scipy.org/doc/scipy/reference/generated/scipy.stats.sem.html) function in SciPy."
   ]
  },
  {
   "cell_type": "code",
   "execution_count": 77,
   "metadata": {},
   "outputs": [
    {
     "name": "stdout",
     "output_type": "stream",
     "text": [
      "95% Confidence Interval for the mean hourly wage of all hourly workers: (32.52345834488425, 33.05365708767623)\n"
     ]
    }
   ],
   "source": [
    "\n",
    "\n",
    "# As the 'Hourly Rate' column contains the hourly wage data for all hourly workers\n",
    "hourly_wages = data[data['Salary or Hourly'] == 'Hourly']['Hourly Rate']\n",
    "\n",
    "# Calculate the sample size and degrees of freedom\n",
    "sample_size = len(hourly_wages)\n",
    "degrees_of_freedom = sample_size - 1\n",
    "\n",
    "# Calculate the sample mean and sample standard deviation\n",
    "sample_mean = hourly_wages.mean()\n",
    "sample_std = hourly_wages.std()\n",
    "\n",
    "# Calculate the standard error\n",
    "standard_error = sample_std / (sample_size ** 0.5)\n",
    "\n",
    "# Define the confidence level (95% in this case)\n",
    "confidence_level = 0.95\n",
    "\n",
    "# Calculate the confidence interval using the t.interval function\n",
    "confidence_interval = scipy.stats.t.interval(confidence_level, degrees_of_freedom, loc=sample_mean, scale=standard_error)\n",
    "\n",
    "# Print the confidence interval\n",
    "print(f\"95% Confidence Interval for the mean hourly wage of all hourly workers: {confidence_interval}\")\n"
   ]
  },
  {
   "cell_type": "markdown",
   "metadata": {},
   "source": [
    "Now construct the 95% confidence interval for all salaried employeed in the police in the cell below."
   ]
  },
  {
   "cell_type": "code",
   "execution_count": 78,
   "metadata": {},
   "outputs": [
    {
     "name": "stdout",
     "output_type": "stream",
     "text": [
      "95% Confidence Interval for the mean annual salary of all salaried employees in the police department: (86177.05631531784, 86795.77269094894)\n"
     ]
    }
   ],
   "source": [
    "\n",
    "\n",
    "# Filter the data to include only salaried employees in the police department\n",
    "police_salaried = data[(data['Salary or Hourly'] == 'Salary') & (data['Department'] == 'POLICE')]['Annual Salary']\n",
    "\n",
    "# Calculate the sample size and degrees of freedom\n",
    "sample_size = len(police_salaried)\n",
    "degrees_of_freedom = sample_size - 1\n",
    "\n",
    "# Calculate the sample mean and sample standard deviation\n",
    "sample_mean = police_salaried.mean()\n",
    "sample_std = police_salaried.std()\n",
    "\n",
    "# Calculate the standard error\n",
    "standard_error = sample_std / (sample_size ** 0.5)\n",
    "\n",
    "# Define the confidence level (95% in this case)\n",
    "confidence_level = 0.95\n",
    "\n",
    "# Calculate the confidence interval using the t.interval function\n",
    "confidence_interval = scipy.stats.t.interval(confidence_level, degrees_of_freedom, loc=sample_mean, scale=standard_error)\n",
    "\n",
    "# Print the confidence interval\n",
    "print(f\"95% Confidence Interval for the mean annual salary of all salaried employees in the police department: {confidence_interval}\")\n",
    "\n"
   ]
  },
  {
   "cell_type": "markdown",
   "metadata": {},
   "source": [
    "# Bonus Challenge - Hypothesis Tests of Proportions\n",
    "\n",
    "Another type of one sample test is a hypothesis test of proportions. In this test, we examine whether the proportion of a group in our sample is significantly different than a fraction. \n",
    "\n",
    "You can read more about one sample proportion tests [here](http://sphweb.bumc.bu.edu/otlt/MPH-Modules/BS/SAS/SAS6-CategoricalData/SAS6-CategoricalData2.html).\n",
    "\n",
    "In the cell below, use the `proportions_ztest` function from `statsmodels` to perform a hypothesis test that will determine whether the number of hourly workers in the City of Chicago is significantly different from 25% at the 95% confidence level."
   ]
  },
  {
   "cell_type": "code",
   "execution_count": 79,
   "metadata": {},
   "outputs": [
    {
     "name": "stdout",
     "output_type": "stream",
     "text": [
      "The number of hourly workers in the City of Chicago is significantly different from 25%.\n"
     ]
    }
   ],
   "source": [
    "\n",
    "# As the 'Salary or Hourly' column contains information about whether an employee is salaried or hourly\n",
    "# We calculate the proportion of hourly workers in the data\n",
    "hourly_proportion = (data['Salary or Hourly'] == 'Hourly').mean()\n",
    "\n",
    "# Define the null hypothesis proportion (25% in this case)\n",
    "null_proportion = 0.25\n",
    "\n",
    "# Perform the proportions z-test\n",
    "z_statistic, p_value = proportions_ztest(count=hourly_proportion * len(data), nobs=len(data), value=null_proportion)\n",
    "\n",
    "# Define the significance level (alpha) for the confidence interval (95% in this case)\n",
    "alpha = 0.05\n",
    "\n",
    "# Check if the p-value is less than the significance level\n",
    "if p_value < alpha:\n",
    "    print(\"The number of hourly workers in the City of Chicago is significantly different from 25%.\")\n",
    "else:\n",
    "    print(\"The number of hourly workers in the City of Chicago is not significantly different from 25%.\")\n"
   ]
  }
 ],
 "metadata": {
  "kernelspec": {
   "display_name": "Python 3",
   "language": "python",
   "name": "python3"
  },
  "language_info": {
   "codemirror_mode": {
    "name": "ipython",
    "version": 3
   },
   "file_extension": ".py",
   "mimetype": "text/x-python",
   "name": "python",
   "nbconvert_exporter": "python",
   "pygments_lexer": "ipython3",
   "version": "3.11.4"
  }
 },
 "nbformat": 4,
 "nbformat_minor": 2
}
