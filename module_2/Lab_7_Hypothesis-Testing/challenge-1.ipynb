{
 "cells": [
  {
   "cell_type": "markdown",
   "metadata": {},
   "source": [
    "# Bonus Challenge 1 - T-test\n",
    "\n",
    "In statistics, t-test is used to test if two data samples have a significant difference between their means. There are two types of t-test:\n",
    "\n",
    "* **Student's t-test** (a.k.a. independent or uncorrelated t-test). This type of t-test is to compare the samples of **two independent populations** (e.g. test scores of students in two different classes). `scipy` provides the [`ttest_ind`](https://docs.scipy.org/doc/scipy-0.15.1/reference/generated/scipy.stats.ttest_ind.html) method to conduct student's t-test.\n",
    "\n",
    "* **Paired t-test** (a.k.a. dependent or correlated t-test). This type of t-test is to compare the samples of **the same population** (e.g. scores of different tests of students in the same class). `scipy` provides the [`ttest_re`](https://docs.scipy.org/doc/scipy-0.15.1/reference/generated/scipy.stats.ttest_rel.html) method to conduct paired t-test.\n",
    "\n",
    "Both types of t-tests return a number which is called the **p-value**. If p-value is below 0.05, we can confidently declare the null-hypothesis is rejected and the difference is significant. If p-value is between 0.05 and 0.1, we may also declare the null-hypothesis is rejected but we are not highly confident. If p-value is above 0.1 we do not reject the null-hypothesis.\n",
    "\n",
    "Read more about the t-test in [this article](http://b.link/test50) and [this Quora](http://b.link/unpaired97). Make sure you understand when to use which type of t-test. "
   ]
  },
  {
   "cell_type": "code",
   "execution_count": 22,
   "metadata": {},
   "outputs": [],
   "source": [
    "# import numpy and pandas\n",
    "import numpy as np\n",
    "import pandas as pd\n",
    "from scipy.stats import ttest_ind\n",
    "from scipy.stats import chi2_contingency"
   ]
  },
  {
   "cell_type": "markdown",
   "metadata": {},
   "source": [
    "#### Import dataset\n",
    "\n",
    "In this challenge we will work on the Pokemon dataset you have already used. The goal is to test whether different groups of pokemon (e.g. Legendary vs Normal, Generation 1 vs 2, single-type vs dual-type) have different stats (e.g. HP, Attack, Defense, etc.). Use Ironhack's database to load the data (db: pokemon, table: pokemon_stats). "
   ]
  },
  {
   "cell_type": "code",
   "execution_count": 55,
   "metadata": {},
   "outputs": [
    {
     "data": {
      "text/html": [
       "<div>\n",
       "<style scoped>\n",
       "    .dataframe tbody tr th:only-of-type {\n",
       "        vertical-align: middle;\n",
       "    }\n",
       "\n",
       "    .dataframe tbody tr th {\n",
       "        vertical-align: top;\n",
       "    }\n",
       "\n",
       "    .dataframe thead th {\n",
       "        text-align: right;\n",
       "    }\n",
       "</style>\n",
       "<table border=\"1\" class=\"dataframe\">\n",
       "  <thead>\n",
       "    <tr style=\"text-align: right;\">\n",
       "      <th></th>\n",
       "      <th>#</th>\n",
       "      <th>Name</th>\n",
       "      <th>Type 1</th>\n",
       "      <th>Type 2</th>\n",
       "      <th>Total</th>\n",
       "      <th>HP</th>\n",
       "      <th>Attack</th>\n",
       "      <th>Defense</th>\n",
       "      <th>Sp. Atk</th>\n",
       "      <th>Sp. Def</th>\n",
       "      <th>Speed</th>\n",
       "      <th>Generation</th>\n",
       "      <th>Legendary</th>\n",
       "    </tr>\n",
       "  </thead>\n",
       "  <tbody>\n",
       "    <tr>\n",
       "      <th>0</th>\n",
       "      <td>1</td>\n",
       "      <td>Bulbasaur</td>\n",
       "      <td>Grass</td>\n",
       "      <td>Poison</td>\n",
       "      <td>318</td>\n",
       "      <td>45</td>\n",
       "      <td>49</td>\n",
       "      <td>49</td>\n",
       "      <td>65</td>\n",
       "      <td>65</td>\n",
       "      <td>45</td>\n",
       "      <td>1</td>\n",
       "      <td>False</td>\n",
       "    </tr>\n",
       "    <tr>\n",
       "      <th>1</th>\n",
       "      <td>2</td>\n",
       "      <td>Ivysaur</td>\n",
       "      <td>Grass</td>\n",
       "      <td>Poison</td>\n",
       "      <td>405</td>\n",
       "      <td>60</td>\n",
       "      <td>62</td>\n",
       "      <td>63</td>\n",
       "      <td>80</td>\n",
       "      <td>80</td>\n",
       "      <td>60</td>\n",
       "      <td>1</td>\n",
       "      <td>False</td>\n",
       "    </tr>\n",
       "    <tr>\n",
       "      <th>2</th>\n",
       "      <td>3</td>\n",
       "      <td>Venusaur</td>\n",
       "      <td>Grass</td>\n",
       "      <td>Poison</td>\n",
       "      <td>525</td>\n",
       "      <td>80</td>\n",
       "      <td>82</td>\n",
       "      <td>83</td>\n",
       "      <td>100</td>\n",
       "      <td>100</td>\n",
       "      <td>80</td>\n",
       "      <td>1</td>\n",
       "      <td>False</td>\n",
       "    </tr>\n",
       "    <tr>\n",
       "      <th>3</th>\n",
       "      <td>3</td>\n",
       "      <td>VenusaurMega Venusaur</td>\n",
       "      <td>Grass</td>\n",
       "      <td>Poison</td>\n",
       "      <td>625</td>\n",
       "      <td>80</td>\n",
       "      <td>100</td>\n",
       "      <td>123</td>\n",
       "      <td>122</td>\n",
       "      <td>120</td>\n",
       "      <td>80</td>\n",
       "      <td>1</td>\n",
       "      <td>False</td>\n",
       "    </tr>\n",
       "    <tr>\n",
       "      <th>4</th>\n",
       "      <td>4</td>\n",
       "      <td>Charmander</td>\n",
       "      <td>Fire</td>\n",
       "      <td>NaN</td>\n",
       "      <td>309</td>\n",
       "      <td>39</td>\n",
       "      <td>52</td>\n",
       "      <td>43</td>\n",
       "      <td>60</td>\n",
       "      <td>50</td>\n",
       "      <td>65</td>\n",
       "      <td>1</td>\n",
       "      <td>False</td>\n",
       "    </tr>\n",
       "  </tbody>\n",
       "</table>\n",
       "</div>"
      ],
      "text/plain": [
       "   #                   Name Type 1  Type 2  Total  HP  Attack  Defense  \\\n",
       "0  1              Bulbasaur  Grass  Poison    318  45      49       49   \n",
       "1  2                Ivysaur  Grass  Poison    405  60      62       63   \n",
       "2  3               Venusaur  Grass  Poison    525  80      82       83   \n",
       "3  3  VenusaurMega Venusaur  Grass  Poison    625  80     100      123   \n",
       "4  4             Charmander   Fire     NaN    309  39      52       43   \n",
       "\n",
       "   Sp. Atk  Sp. Def  Speed  Generation  Legendary  \n",
       "0       65       65     45           1      False  \n",
       "1       80       80     60           1      False  \n",
       "2      100      100     80           1      False  \n",
       "3      122      120     80           1      False  \n",
       "4       60       50     65           1      False  "
      ]
     },
     "metadata": {},
     "output_type": "display_data"
    }
   ],
   "source": [
    "# Your code here:\n",
    "\n",
    "pokemon = pd.read_csv('pokemon.csv')\n",
    "\n",
    "\n",
    "display (pokemon.head())"
   ]
  },
  {
   "cell_type": "markdown",
   "metadata": {},
   "source": [
    "#### First we want to define a function with which we can test the means of a feature set of two samples. \n",
    "\n",
    "In the next cell you'll see the annotations of the Python function that explains what this function does and its arguments and returned value. This type of annotation is called **docstring** which is a convention used among Python developers. The docstring convention allows developers to write consistent tech documentations for their codes so that others can read. It also allows some websites to automatically parse the docstrings and display user-friendly documentations.\n",
    "\n",
    "Follow the specifications of the docstring and complete the function."
   ]
  },
  {
   "cell_type": "code",
   "execution_count": 24,
   "metadata": {},
   "outputs": [],
   "source": [
    "def t_test_features(s1, s2, features=['HP', 'Attack', 'Defense', 'Sp. Atk', 'Sp. Def', 'Speed', 'Total']):\n",
    "    \"\"\"Test means of a feature set of two samples\n",
    "    \n",
    "    Args:\n",
    "        s1 (dataframe): sample 1\n",
    "        s2 (dataframe): sample 2\n",
    "        features (list): an array of features to test\n",
    "    \n",
    "    Returns:\n",
    "        dict: a dictionary of t-test scores for each feature where the feature name is the key and the p-value is the value\n",
    "    \"\"\"\n",
    "    results = {}\n",
    "\n",
    "    for feature in features:\n",
    "        # Extract the values of the current feature from both samples\n",
    "        s1_feature_values = s1[feature]\n",
    "        s2_feature_values = s2[feature]\n",
    "        \n",
    "        # Perform the t-test for the current feature\n",
    "        t_statistic, p_value = ttest_ind(s1_feature_values, s2_feature_values)\n",
    "        \n",
    "        # Store the results in the dictionary\n",
    "        results[feature] = p_value\n",
    "\n",
    "    return results\n"
   ]
  },
  {
   "cell_type": "markdown",
   "metadata": {},
   "source": [
    "#### Using the `t_test_features` function, conduct t-test for Lengendary vs non-Legendary pokemons.\n",
    "\n",
    "*Hint: your output should look like below:*\n",
    "\n",
    "```\n",
    "{'HP': 1.0026911708035284e-13,\n",
    " 'Attack': 2.520372449236646e-16,\n",
    " 'Defense': 4.8269984949193316e-11,\n",
    " 'Sp. Atk': 1.5514614112239812e-21,\n",
    " 'Sp. Def': 2.2949327864052826e-15,\n",
    " 'Speed': 1.049016311882451e-18,\n",
    " 'Total': 9.357954335957446e-47}\n",
    " ```"
   ]
  },
  {
   "cell_type": "code",
   "execution_count": 34,
   "metadata": {},
   "outputs": [
    {
     "data": {
      "text/plain": [
       "{'HP': 3.330647684846191e-15,\n",
       " 'Attack': 7.827253003205333e-24,\n",
       " 'Defense': 1.5842226094427259e-12,\n",
       " 'Sp. Atk': 6.314915770427266e-41,\n",
       " 'Sp. Def': 1.8439809580409594e-26,\n",
       " 'Speed': 2.3540754436898437e-21,\n",
       " 'Total': 3.0952457469652825e-52}"
      ]
     },
     "metadata": {},
     "output_type": "display_data"
    }
   ],
   "source": [
    "# Separate the data into two samples based on 'Legendary' column\n",
    "legendary_pokemon = pokemon[pokemon['Legendary'] == 1]\n",
    "non_legendary_pokemon = pokemon[pokemon['Legendary'] == 0]\n",
    "\n",
    "# List of features to test\n",
    "features_to_test = ['HP', 'Attack', 'Defense', 'Sp. Atk', 'Sp. Def', 'Speed', 'Total']\n",
    "\n",
    "# Dictionary to store t-test results\n",
    "t_test_results = {}\n",
    "\n",
    "# Conduct the t-test for each feature\n",
    "for feature in features_to_test:\n",
    "    t_statistic, p_value = ttest_ind(legendary_pokemon[feature], non_legendary_pokemon[feature])\n",
    "    t_test_results[feature] = p_value\n",
    "\n",
    "# Print the t-test results\n",
    "display (t_test_results)"
   ]
  },
  {
   "cell_type": "markdown",
   "metadata": {},
   "source": [
    "#### From the test results above, what conclusion can you make? Do Legendary and non-Legendary pokemons have significantly different stats on each feature?"
   ]
  },
  {
   "cell_type": "code",
   "execution_count": 35,
   "metadata": {},
   "outputs": [
    {
     "name": "stdout",
     "output_type": "stream",
     "text": [
      "Feature 'HP' has a statistically significant difference between Legendary and non-Legendary Pokémon.\n",
      "Feature 'Attack' has a statistically significant difference between Legendary and non-Legendary Pokémon.\n",
      "Feature 'Defense' has a statistically significant difference between Legendary and non-Legendary Pokémon.\n",
      "Feature 'Sp. Atk' has a statistically significant difference between Legendary and non-Legendary Pokémon.\n",
      "Feature 'Sp. Def' has a statistically significant difference between Legendary and non-Legendary Pokémon.\n",
      "Feature 'Speed' has a statistically significant difference between Legendary and non-Legendary Pokémon.\n",
      "Feature 'Total' has a statistically significant difference between Legendary and non-Legendary Pokémon.\n"
     ]
    }
   ],
   "source": [
    "\n",
    "for feature, p_value in t_test_results.items():\n",
    "    if p_value < 0.05:\n",
    "        print(f\"Feature '{feature}' has a statistically significant difference between Legendary and non-Legendary Pokémon.\")\n",
    "    else:\n",
    "        print(f\"Feature '{feature}' does not have a statistically significant difference between Legendary and non-Legendary Pokémon.\")\n"
   ]
  },
  {
   "cell_type": "markdown",
   "metadata": {},
   "source": [
    "#### Next, conduct t-test for Generation 1 and Generation 2 pokemons."
   ]
  },
  {
   "cell_type": "code",
   "execution_count": 38,
   "metadata": {},
   "outputs": [
    {
     "data": {
      "text/plain": [
       "{'HP': 0.13791881412813622,\n",
       " 'Attack': 0.24050968418101457,\n",
       " 'Defense': 0.5407630349194362,\n",
       " 'Sp. Atk': 0.14119788176331508,\n",
       " 'Sp. Def': 0.16781226231606386,\n",
       " 'Speed': 0.00283569548125787,\n",
       " 'Total': 0.5599140649014442}"
      ]
     },
     "metadata": {},
     "output_type": "display_data"
    }
   ],
   "source": [
    "# Separate the data into two samples based on 'Generation' column\n",
    "gen1_pokemon = pokemon[pokemon['Generation'] == 1]\n",
    "gen2_pokemon = pokemon[pokemon['Generation'] == 2]\n",
    "\n",
    "# List of features to test\n",
    "features_to_test = ['HP', 'Attack', 'Defense', 'Sp. Atk', 'Sp. Def', 'Speed', 'Total']\n",
    "\n",
    "# Dictionary to store t-test results\n",
    "t_test_results = {}\n",
    "\n",
    "# Conduct the t-test for each feature\n",
    "for feature in features_to_test:\n",
    "    t_statistic, p_value = ttest_ind(gen1_pokemon[feature], gen2_pokemon[feature])\n",
    "    t_test_results[feature] = p_value\n",
    "\n",
    "# Print the t-test results\n",
    "display (t_test_results)\n"
   ]
  },
  {
   "cell_type": "markdown",
   "metadata": {},
   "source": [
    "#### What conclusions can you make?"
   ]
  },
  {
   "cell_type": "code",
   "execution_count": 28,
   "metadata": {},
   "outputs": [],
   "source": [
    "\"\"\"While Speed may have a statistically significant difference, its practical significance in the context of Pokémon gameplay may vary. \n",
    "The other features, despite not showing significant differences, may still have meaningful variations between the generations.\n",
    "\"\"\""
   ]
  },
  {
   "cell_type": "markdown",
   "metadata": {},
   "source": [
    "#### Compare pokemons who have single type vs those having two types."
   ]
  },
  {
   "cell_type": "code",
   "execution_count": 41,
   "metadata": {},
   "outputs": [
    {
     "data": {
      "text/plain": [
       "{'HP': 0.11060643144431842,\n",
       " 'Attack': 0.00015741395666164396,\n",
       " 'Defense': 3.250594205757004e-08,\n",
       " 'Sp. Atk': 0.0001454917404035147,\n",
       " 'Sp. Def': 0.00010893304795534396,\n",
       " 'Speed': 0.024051410794037463,\n",
       " 'Total': 1.1749035008828752e-07}"
      ]
     },
     "metadata": {},
     "output_type": "display_data"
    }
   ],
   "source": [
    "# Separate the data into two samples based on 'Type 2' column\n",
    "single_type_pokemon = pokemon[pokemon['Type 2'].isnull()]\n",
    "dual_type_pokemon = pokemon[pokemon['Type 2'].notnull()]\n",
    "\n",
    "# List of features to test\n",
    "features_to_test = ['HP', 'Attack', 'Defense', 'Sp. Atk', 'Sp. Def', 'Speed', 'Total']\n",
    "\n",
    "# Dictionary to store t-test results\n",
    "t_test_results = {}\n",
    "\n",
    "# Conduct the t-test for each feature\n",
    "for feature in features_to_test:\n",
    "    t_statistic, p_value = ttest_ind(single_type_pokemon[feature], dual_type_pokemon[feature])\n",
    "    t_test_results[feature] = p_value\n",
    "\n",
    "# Print the t-test results\n",
    "display (t_test_results)"
   ]
  },
  {
   "cell_type": "markdown",
   "metadata": {},
   "source": [
    "#### What conclusions can you make?"
   ]
  },
  {
   "cell_type": "code",
   "execution_count": 42,
   "metadata": {},
   "outputs": [
    {
     "data": {
      "text/plain": [
       "'there are statistically significant differences in the means of Attack, Defense, Sp. Atk, Sp. Def, Speed, and Total base stats between Pokémon with single type and those with two types. However, there is no statistically significant difference in the means of HP between the two groups. \\nThe small p-values for Defense and Total indicate that these differences are highly significant.'"
      ]
     },
     "execution_count": 42,
     "metadata": {},
     "output_type": "execute_result"
    }
   ],
   "source": [
    "\"\"\"there are statistically significant differences in the means of Attack, Defense, Sp. Atk, Sp. Def, Speed, and Total base stats between Pokémon with single type and those with two types. \n",
    "There is no statistically significant difference in the means of HP between the two groups. \n",
    "The small p-values for Defense and Total indicate that these differences are highly significant.\"\"\""
   ]
  },
  {
   "cell_type": "markdown",
   "metadata": {},
   "source": [
    "#### Now, we want to compare whether there are significant differences of `Attack` vs `Defense`  and  `Sp. Atk` vs `Sp. Def` of all pokemons. Please write your code below.\n",
    "\n",
    "*Hint: are you comparing different populations or the same population?*"
   ]
  },
  {
   "cell_type": "code",
   "execution_count": 49,
   "metadata": {},
   "outputs": [
    {
     "name": "stdout",
     "output_type": "stream",
     "text": [
      "Independent two-sample t-test results for 'Attack' vs 'Defense':\n",
      "t-statistic: 3.241764074042312\n",
      "p-value: 0.0012123980547321489\n",
      "\n",
      "Independent two-sample t-test results for 'Sp. Atk' vs 'Sp. Def':\n",
      "t-statistic: 0.6041290031014401\n",
      "p-value: 0.5458436328840358\n"
     ]
    }
   ],
   "source": [
    "# Perform the independent two-sample t-test for 'Attack' vs 'Defense'\n",
    "t_statistic_attack_def, p_value_attack_def = ttest_ind(pokemon['Attack'], pokemon['Defense'])\n",
    "\n",
    "# Perform the independent two-sample t-test for 'Sp. Atk' vs 'Sp. Def'\n",
    "t_statistic_sp_atk_def, p_value_sp_atk_def = ttest_ind(pokemon['Sp. Atk'], pokemon['Sp. Def'])\n",
    "\n",
    "# Print the t-test results\n",
    "print(\"Independent two-sample t-test results for 'Attack' vs 'Defense':\")\n",
    "print(\"t-statistic:\", t_statistic_attack_def)\n",
    "print(\"p-value:\", p_value_attack_def)\n",
    "\n",
    "print(\"\\nIndependent two-sample t-test results for 'Sp. Atk' vs 'Sp. Def':\")\n",
    "print(\"t-statistic:\", t_statistic_sp_atk_def)\n",
    "print(\"p-value:\", p_value_sp_atk_def)"
   ]
  },
  {
   "cell_type": "markdown",
   "metadata": {},
   "source": [
    "#### What conclusions can you make?"
   ]
  },
  {
   "cell_type": "code",
   "execution_count": 32,
   "metadata": {},
   "outputs": [],
   "source": [
    "\"\"\"    There is a statistically significant difference between the means of 'Attack' and 'Defense'.\n",
    "    There is no statistically significant difference between the means of 'Sp. Atk' and 'Sp. Def'.\"\"\""
   ]
  }
 ],
 "metadata": {
  "kernelspec": {
   "display_name": "Python 3",
   "language": "python",
   "name": "python3"
  },
  "language_info": {
   "codemirror_mode": {
    "name": "ipython",
    "version": 3
   },
   "file_extension": ".py",
   "mimetype": "text/x-python",
   "name": "python",
   "nbconvert_exporter": "python",
   "pygments_lexer": "ipython3",
   "version": "3.11.4"
  }
 },
 "nbformat": 4,
 "nbformat_minor": 2
}
