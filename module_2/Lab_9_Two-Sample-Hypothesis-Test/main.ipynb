{
 "cells": [
  {
   "cell_type": "markdown",
   "metadata": {},
   "source": [
    "# Before your start:\n",
    "- Read the README.md file\n",
    "- Comment as much as you can and use the resources (README.md file)\n",
    "- Happy learning!"
   ]
  },
  {
   "cell_type": "code",
   "execution_count": 22,
   "metadata": {},
   "outputs": [],
   "source": [
    "# import numpy and pandas\n",
    "import numpy as np\n",
    "import pandas as pd\n",
    "from scipy.stats import ttest_ind\n",
    "from scipy.stats import chi2_contingency\n",
    "\n"
   ]
  },
  {
   "cell_type": "markdown",
   "metadata": {},
   "source": [
    "# Challenge 1 - Independent Sample T-tests\n",
    "\n",
    "In this challenge, we will be using the Pokemon dataset. Before applying statistical methods to this data, let's first examine the data.\n",
    "\n",
    "To load the data, run the code below."
   ]
  },
  {
   "cell_type": "code",
   "execution_count": 23,
   "metadata": {},
   "outputs": [],
   "source": [
    "# Run this code:\n",
    "\n",
    "pokemon = pd.read_csv('pokemon.csv')"
   ]
  },
  {
   "cell_type": "markdown",
   "metadata": {},
   "source": [
    "Let's start off by looking at the `head` function in the cell below."
   ]
  },
  {
   "cell_type": "code",
   "execution_count": 24,
   "metadata": {},
   "outputs": [
    {
     "name": "stdout",
     "output_type": "stream",
     "text": [
      "   #                   Name Type 1  Type 2  Total  HP  Attack  Defense  \\\n",
      "0  1              Bulbasaur  Grass  Poison    318  45      49       49   \n",
      "1  2                Ivysaur  Grass  Poison    405  60      62       63   \n",
      "2  3               Venusaur  Grass  Poison    525  80      82       83   \n",
      "3  3  VenusaurMega Venusaur  Grass  Poison    625  80     100      123   \n",
      "4  4             Charmander   Fire     NaN    309  39      52       43   \n",
      "\n",
      "   Sp. Atk  Sp. Def  Speed  Generation  Legendary  \n",
      "0       65       65     45           1      False  \n",
      "1       80       80     60           1      False  \n",
      "2      100      100     80           1      False  \n",
      "3      122      120     80           1      False  \n",
      "4       60       50     65           1      False  \n"
     ]
    }
   ],
   "source": [
    "# Your code here:\n",
    "\n",
    "print(pokemon.head())"
   ]
  },
  {
   "cell_type": "markdown",
   "metadata": {},
   "source": [
    "The first thing we would like to do is compare the legendary Pokemon to the regular Pokemon. To do this, we should examine the data further. What is the count of legendary vs. non legendary Pokemons?"
   ]
  },
  {
   "cell_type": "code",
   "execution_count": 25,
   "metadata": {},
   "outputs": [
    {
     "name": "stdout",
     "output_type": "stream",
     "text": [
      "                      Name      Legendary  Count\n",
      "0                Bulbasaur  Non-Legendary    735\n",
      "1                  Ivysaur  Non-Legendary    735\n",
      "2                 Venusaur  Non-Legendary    735\n",
      "3    VenusaurMega Venusaur  Non-Legendary    735\n",
      "4               Charmander  Non-Legendary    735\n",
      "..                     ...            ...    ...\n",
      "795                Diancie      Legendary     65\n",
      "796    DiancieMega Diancie      Legendary     65\n",
      "797    HoopaHoopa Confined      Legendary     65\n",
      "798     HoopaHoopa Unbound      Legendary     65\n",
      "799              Volcanion      Legendary     65\n",
      "\n",
      "[800 rows x 3 columns]\n"
     ]
    }
   ],
   "source": [
    "# Your code here:\n",
    "\n",
    "# Use the 'groupby' function to group the Pokémon by the 'Legendary' column and calculate counts\n",
    "legendary_counts = pokemon.groupby('Legendary').size().reset_index(name='Count')\n",
    "\n",
    "# Merge the counts with the names based on the 'Legendary' column\n",
    "result_df = pokemon.merge(legendary_counts, on='Legendary', how='inner')\n",
    "\n",
    "# Replace the boolean values in the 'Legendary' column with more descriptive names\n",
    "result_df['Legendary'] = result_df['Legendary'].replace({False: 'Non-Legendary', True: 'Legendary'})\n",
    "\n",
    "# Display the DataFrame with the Name and Count columns\n",
    "print(result_df[['Name', 'Legendary', 'Count']])"
   ]
  },
  {
   "cell_type": "markdown",
   "metadata": {},
   "source": [
    "Compute the mean and standard deviation of the total points for both legendary and non-legendary Pokemon."
   ]
  },
  {
   "cell_type": "code",
   "execution_count": 26,
   "metadata": {},
   "outputs": [
    {
     "name": "stdout",
     "output_type": "stream",
     "text": [
      "                     mean         std\n",
      "Legendary                            \n",
      "Non-Legendary  417.213605  106.760417\n",
      "Legendary      637.384615   60.937389\n"
     ]
    }
   ],
   "source": [
    "# Your code here:\n",
    "\n",
    "# Group the Pokémon by the 'Legendary' column and calculate the mean and standard deviation of 'Total' points\n",
    "stats_by_legendary = pokemon.groupby('Legendary')['Total'].agg(['mean', 'std'])\n",
    "\n",
    "# Replace the boolean values in the 'Legendary' column with more descriptive names\n",
    "stats_by_legendary.index = stats_by_legendary.index.map({False: 'Non-Legendary', True: 'Legendary'})\n",
    "\n",
    "# Display the statistics\n",
    "print(stats_by_legendary)\n"
   ]
  },
  {
   "cell_type": "markdown",
   "metadata": {},
   "source": [
    "The computation of the mean might give us a clue regarding how the statistical test may turn out; However, it certainly does not prove whether there is a significant difference between the two groups.\n",
    "\n",
    "In the cell below, use the `ttest_ind` function in `scipy.stats` to compare the the total points for legendary and non-legendary Pokemon. Since we do not have any information about the population, assume the variances are not equal."
   ]
  },
  {
   "cell_type": "code",
   "execution_count": 27,
   "metadata": {},
   "outputs": [
    {
     "name": "stdout",
     "output_type": "stream",
     "text": [
      "Independent Two-Sample T-Test Results:\n",
      "t-statistic: 25.8335743895517\n",
      "p-value: 9.357954335957444e-47\n",
      "There is a statistically significant difference between the total points of legendary and non-legendary Pokémon.\n"
     ]
    }
   ],
   "source": [
    "# Your code here:\n",
    "\n",
    "# Separate the 'Total' points for legendary and non-legendary Pokémon\n",
    "total_points_legendary = pokemon[pokemon['Legendary'] == True]['Total']\n",
    "total_points_non_legendary = pokemon[pokemon['Legendary'] == False]['Total']\n",
    "\n",
    "# Perform the independent two-sample t-test with unequal variances\n",
    "t_stat, p_value = ttest_ind(total_points_legendary, total_points_non_legendary, equal_var=False)\n",
    "\n",
    "# Display the results\n",
    "print(\"Independent Two-Sample T-Test Results:\")\n",
    "print(\"t-statistic:\", t_stat)\n",
    "print(\"p-value:\", p_value)\n",
    "\n",
    "# Check if the result is statistically significant (using a significance level of 0.05)\n",
    "if p_value < 0.05:\n",
    "    print(\"There is a statistically significant difference between the total points of legendary and non-legendary Pokémon.\")\n",
    "else:\n",
    "    print(\"There is no statistically significant difference between the total points of legendary and non-legendary Pokémon.\")\n"
   ]
  },
  {
   "cell_type": "markdown",
   "metadata": {},
   "source": [
    "What do you conclude from this test? Write your conclusions below."
   ]
  },
  {
   "cell_type": "code",
   "execution_count": 28,
   "metadata": {},
   "outputs": [
    {
     "data": {
      "text/plain": [
       "'\\nSignificant difference between the total points of legendary and non-legendary Pokémon.\\nRejecting the null hypothesis, which states that there is no difference between the means of the two groups. \\nThe analysis indicates that legendary and non-legendary Pokémon have significantly different total points on average.\\n\\n'"
      ]
     },
     "execution_count": 28,
     "metadata": {},
     "output_type": "execute_result"
    }
   ],
   "source": [
    "# Your conclusions here:\n",
    "\"\"\"\n",
    "Significant difference between the total points of legendary and non-legendary Pokémon.\n",
    "Rejecting the null hypothesis, which states that there is no difference between the means of the two groups. \n",
    "The analysis indicates that legendary and non-legendary Pokémon have significantly different total points on average.\n",
    "\n",
    "\"\"\"\n"
   ]
  },
  {
   "cell_type": "markdown",
   "metadata": {},
   "source": [
    "How about we try to compare the different types of pokemon? In the cell below, list the types of Pokemon from column `Type 1` and the count of each type."
   ]
  },
  {
   "cell_type": "code",
   "execution_count": 29,
   "metadata": {},
   "outputs": [
    {
     "name": "stdout",
     "output_type": "stream",
     "text": [
      "Type 1\n",
      "Water       112\n",
      "Normal       98\n",
      "Grass        70\n",
      "Bug          69\n",
      "Psychic      57\n",
      "Fire         52\n",
      "Electric     44\n",
      "Rock         44\n",
      "Dragon       32\n",
      "Ground       32\n",
      "Ghost        32\n",
      "Dark         31\n",
      "Poison       28\n",
      "Steel        27\n",
      "Fighting     27\n",
      "Ice          24\n",
      "Fairy        17\n",
      "Flying        4\n",
      "Name: count, dtype: int64\n"
     ]
    }
   ],
   "source": [
    "# Your code here:\n",
    "\n",
    "# Group the Pokémon by the 'Type 1' column and calculate the count of each type\n",
    "type_counts = pokemon['Type 1'].value_counts()\n",
    "\n",
    "# Display the types of Pokémon and their corresponding counts\n",
    "print(type_counts)"
   ]
  },
  {
   "cell_type": "markdown",
   "metadata": {},
   "source": [
    "Since water is the largest group of Pokemon, compare the mean and standard deviation of water Pokemon to all other Pokemon."
   ]
  },
  {
   "cell_type": "code",
   "execution_count": 30,
   "metadata": {},
   "outputs": [
    {
     "name": "stdout",
     "output_type": "stream",
     "text": [
      "Statistics for Water-type Pokémon:\n",
      "Mean: 430.45535714285717\n",
      "Standard Deviation: 113.1882660643146\n",
      "\n",
      "Statistics for All Pokémon:\n",
      "Mean: 435.1025\n",
      "Standard Deviation: 119.96303975551899\n"
     ]
    }
   ],
   "source": [
    "# Your code here:\n",
    "\n",
    "# Filter the data for Water-type Pokémon and calculate their mean and standard deviation of 'Total' points\n",
    "\n",
    "water_pokemon = pokemon[pokemon['Type 1'] == 'Water']\n",
    "mean_water = water_pokemon['Total'].mean()\n",
    "std_water = water_pokemon['Total'].std()\n",
    "\n",
    "# Calculate the mean and standard deviation of 'Total' points for all Pokémon\n",
    "\n",
    "mean_all = pokemon['Total'].mean()\n",
    "std_all = pokemon['Total'].std()\n",
    "\n",
    "# Display the statistics for Water-type Pokémon and all other Pokémon\n",
    "\n",
    "print(\"Statistics for Water-type Pokémon:\")\n",
    "print(\"Mean:\", mean_water)\n",
    "print(\"Standard Deviation:\", std_water)\n",
    "\n",
    "print(\"\\nStatistics for All Pokémon:\")\n",
    "print(\"Mean:\", mean_all)\n",
    "print(\"Standard Deviation:\", std_all)\n"
   ]
  },
  {
   "cell_type": "markdown",
   "metadata": {},
   "source": [
    "Perform a hypothesis test comparing the mean of total points for water Pokemon to all non-water Pokemon. Assume the variances are equal. "
   ]
  },
  {
   "cell_type": "code",
   "execution_count": 31,
   "metadata": {},
   "outputs": [
    {
     "name": "stdout",
     "output_type": "stream",
     "text": [
      "Independent Two-Sample T-Test Results:\n",
      "t-statistic: -0.4418547448849676\n",
      "p-value: 0.6587140317488793\n",
      "There is no statistically significant difference between the mean total points of Water-type and non-Water-type Pokémon.\n"
     ]
    }
   ],
   "source": [
    "# Your code here:\n",
    "\n",
    "# Separate the 'Total' points for Water-type and non-Water-type Pokémon\n",
    "total_points_water = pokemon[pokemon['Type 1'] == 'Water']['Total']\n",
    "total_points_non_water = pokemon[pokemon['Type 1'] != 'Water']['Total']\n",
    "\n",
    "# Perform the independent two-sample t-test with equal variances\n",
    "t_stat, p_value = ttest_ind(total_points_water, total_points_non_water, equal_var=True)\n",
    "\n",
    "# Display the results\n",
    "print(\"Independent Two-Sample T-Test Results:\")\n",
    "print(\"t-statistic:\", t_stat)\n",
    "print(\"p-value:\", p_value)\n",
    "\n",
    "# Check if the result is statistically significant (using a significance level of 0.05)\n",
    "if p_value < 0.05:\n",
    "    print(\"There is a statistically significant difference between the mean total points of Water-type and non-Water-type Pokémon.\")\n",
    "else:\n",
    "    print (\"There is no statistically significant difference between the mean total points of Water-type and non-Water-type Pokémon.\")\n",
    "\n",
    "\n"
   ]
  },
  {
   "cell_type": "markdown",
   "metadata": {},
   "source": [
    "Write your conclusion below."
   ]
  },
  {
   "cell_type": "code",
   "execution_count": 32,
   "metadata": {},
   "outputs": [
    {
     "data": {
      "text/plain": [
       "'\\nThe analysis suggests that there is no strong evidence to support the claim that Water-type Pokémon have different mean total points compared to non-Water-type Pokémon in the dataset.\\n'"
      ]
     },
     "execution_count": 32,
     "metadata": {},
     "output_type": "execute_result"
    }
   ],
   "source": [
    "# Your conclusions here:\n",
    "\"\"\"\n",
    "The analysis suggests that there is no strong evidence to support the claim that Water-type Pokémon have different mean total points compared to non-Water-type Pokémon in the dataset.\n",
    "\"\"\""
   ]
  },
  {
   "cell_type": "markdown",
   "metadata": {},
   "source": [
    "# Challenge 2 - Matched Pairs Test\n",
    "\n",
    "In this challenge we will compare dependent samples of data describing our Pokemon. Our goal is to see whether there is a significant difference between each Pokemon's defense and attack scores. Our hypothesis is that the defense and attack scores are equal. In the cell below, import the `ttest_rel` function from `scipy.stats` and compare the two columns to see if there is a statistically significant difference between them."
   ]
  },
  {
   "cell_type": "code",
   "execution_count": 33,
   "metadata": {},
   "outputs": [
    {
     "name": "stdout",
     "output_type": "stream",
     "text": [
      "Paired-Sample T-Test Results:\n",
      "t-statistic: -4.325566393330478\n",
      "p-value: 1.7140303479358558e-05\n",
      "There is a statistically significant difference between the defense and attack scores.\n"
     ]
    }
   ],
   "source": [
    "# Load the data from 'pokemon.csv' into a DataFrame\n",
    "pokemon = pd.read_csv('pokemon.csv')\n",
    "\n",
    "# Extract the defense and attack scores as paired samples\n",
    "defense_scores = pokemon['Defense']\n",
    "attack_scores = pokemon['Attack']\n",
    "\n",
    "# Perform the paired-sample t-test using the scipy.stats.ttest_rel function\n",
    "t_stat, p_value = ttest_rel(defense_scores, attack_scores)\n",
    "\n",
    "# Display the results\n",
    "print(\"Paired-Sample T-Test Results:\")\n",
    "print(\"t-statistic:\", t_stat)\n",
    "print(\"p-value:\", p_value)\n",
    "\n",
    "# Check if the result is statistically significant (using a significance level of 0.05)\n",
    "if p_value < 0.05:\n",
    "    print(\"There is a statistically significant difference between the defense and attack scores.\")\n",
    "else:\n",
    "    print(\"There is no statistically significant difference between the defense and attack scores.\")"
   ]
  },
  {
   "cell_type": "markdown",
   "metadata": {},
   "source": [
    "Describe the results of the test in the cell below."
   ]
  },
  {
   "cell_type": "code",
   "execution_count": 34,
   "metadata": {},
   "outputs": [
    {
     "data": {
      "text/plain": [
       "'\\nBased on the results, we have sufficient evidence to conclude that there is a significant difference between the defense and attack scores of Pokémon.\\n\\n'"
      ]
     },
     "execution_count": 34,
     "metadata": {},
     "output_type": "execute_result"
    }
   ],
   "source": [
    "# Your conclusions here:\n",
    "\"\"\"\n",
    "Based on the results, we have sufficient evidence to conclude that there is a significant difference between the defense and attack scores of Pokémon.\n",
    "\n",
    "\"\"\""
   ]
  },
  {
   "cell_type": "markdown",
   "metadata": {},
   "source": [
    "We are also curious about whether therer is a significant difference between the mean of special defense and the mean of special attack. Perform the hypothesis test in the cell below. "
   ]
  },
  {
   "cell_type": "code",
   "execution_count": 35,
   "metadata": {},
   "outputs": [
    {
     "name": "stdout",
     "output_type": "stream",
     "text": [
      "Independent Two-Sample T-Test Results:\n",
      "t-statistic: -0.6041290031014401\n",
      "p-value: 0.5458436328840358\n",
      "There is no statistically significant difference between the mean Special Defense and mean Special Attack scores.\n"
     ]
    }
   ],
   "source": [
    "# Your code here:\n",
    "\n",
    "# Extract the Special Defense and Special Attack scores as separate groups\n",
    "special_defense_scores = pokemon['Sp. Def']\n",
    "special_attack_scores = pokemon['Sp. Atk']\n",
    "\n",
    "# Perform the independent two-sample t-test\n",
    "t_stat, p_value = ttest_ind(special_defense_scores, special_attack_scores)\n",
    "\n",
    "# Display the results\n",
    "print(\"Independent Two-Sample T-Test Results:\")\n",
    "print(\"t-statistic:\", t_stat)\n",
    "print(\"p-value:\", p_value)\n",
    "\n",
    "# Check if the result is statistically significant (using a significance level of 0.05)\n",
    "if p_value < 0.05:\n",
    "    print(\"There is a statistically significant difference between the mean Special Defense and mean Special Attack scores.\")\n",
    "else:\n",
    "    print(\"There is no statistically significant difference between the mean Special Defense and mean Special Attack scores.\")\n",
    "\n"
   ]
  },
  {
   "cell_type": "markdown",
   "metadata": {},
   "source": [
    "Describe the results of the test in the cell below."
   ]
  },
  {
   "cell_type": "code",
   "execution_count": 36,
   "metadata": {},
   "outputs": [
    {
     "data": {
      "text/plain": [
       "\"the analysis indicates that, on average, Pokémon's Special Defense and Special Attack scores are similar and that any observed differences are likely due to random variation and not meaningful differences between the two attributes.\""
      ]
     },
     "execution_count": 36,
     "metadata": {},
     "output_type": "execute_result"
    }
   ],
   "source": [
    "# Your conclusions here:\n",
    "\"\"\"the analysis indicates that, on average, Pokémon's Special Defense and Special Attack scores are similar and that any observed differences are likely due to random variation and not meaningful differences between the two attributes.\"\"\"\n"
   ]
  },
  {
   "cell_type": "markdown",
   "metadata": {},
   "source": [
    "As you may recall, a two sample matched pairs test can also be expressed as a one sample test of the difference between the two dependent columns.\n",
    "\n",
    "Import the `ttest_1samp` function and perform a one sample t-test of the difference between defense and attack. Test the hypothesis that the difference between the means is zero. Confirm that the results of the test are the same."
   ]
  },
  {
   "cell_type": "code",
   "execution_count": 37,
   "metadata": {},
   "outputs": [
    {
     "name": "stdout",
     "output_type": "stream",
     "text": [
      "Paired-Sample T-Test Results:\n",
      "t-statistic: -4.325566393330478\n",
      "p-value: 1.7140303479358558e-05\n",
      "There is a statistically significant difference between the defense and attack scores.\n"
     ]
    }
   ],
   "source": [
    "# Your code here:\n",
    "\n",
    "# Extract the defense and attack scores as paired samples\n",
    "defense_scores = pokemon['Defense']\n",
    "attack_scores = pokemon['Attack']\n",
    "\n",
    "# Perform the paired-sample t-test using ttest_rel\n",
    "t_stat, p_value = ttest_rel(defense_scores, attack_scores)\n",
    "\n",
    "# Display the results\n",
    "print(\"Paired-Sample T-Test Results:\")\n",
    "print(\"t-statistic:\", t_stat)\n",
    "print(\"p-value:\", p_value)\n",
    "\n",
    "# Check if the result is statistically significant (using a significance level of 0.05)\n",
    "if p_value < 0.05:\n",
    "    print(\"There is a statistically significant difference between the defense and attack scores.\")\n",
    "else:\n",
    "    print(\"There is no statistically significant difference between the defense and attack scores.\")\n",
    "    "
   ]
  },
  {
   "cell_type": "markdown",
   "metadata": {},
   "source": [
    "# Bonus Challenge - The Chi-Square Test\n",
    "\n",
    "The Chi-Square test is used to determine whether there is a statistically significant difference in frequencies. In other words, we are testing whether there is a relationship between categorical variables or rather when the variables are independent. This test is an alternative to Fisher's exact test and is used in scenarios where sample sizes are larger. However, with a large enough sample size, both tests produce similar results. Read more about the Chi Squared test [here](https://en.wikipedia.org/wiki/Chi-squared_test).\n",
    "\n",
    "In the cell below, create a contingency table using `pd.crosstab` comparing whether a Pokemon is legenadary or not and whether the Type 1 of a Pokemon is water or not."
   ]
  },
  {
   "cell_type": "code",
   "execution_count": 38,
   "metadata": {},
   "outputs": [
    {
     "name": "stdout",
     "output_type": "stream",
     "text": [
      "Contingency Table:\n",
      "               Not Water Type 1  Water Type 1\n",
      "Non-Legendary               627           108\n",
      "Legendary                    61             4\n"
     ]
    }
   ],
   "source": [
    "# Your code here:\n",
    "\n",
    "# Create a contingency table using pd.crosstab\n",
    "contingency_table = pd.crosstab(pokemon['Legendary'], pokemon['Type 1'] == 'Water')\n",
    "\n",
    "# Add row and column names for clarity\n",
    "contingency_table.index = ['Non-Legendary', 'Legendary']\n",
    "contingency_table.columns = ['Not Water Type 1', 'Water Type 1']\n",
    "\n",
    "# Display the contingency table\n",
    "print(\"Contingency Table:\")\n",
    "print(contingency_table)"
   ]
  },
  {
   "cell_type": "markdown",
   "metadata": {},
   "source": [
    "Perform a chi-squared test using the `chi2_contingency` function in `scipy.stats`. You can read the documentation of the function [here](https://docs.scipy.org/doc/scipy/reference/generated/scipy.stats.chi2_contingency.html)."
   ]
  },
  {
   "cell_type": "code",
   "execution_count": 41,
   "metadata": {},
   "outputs": [
    {
     "name": "stdout",
     "output_type": "stream",
     "text": [
      "Chi-Square Test Results:\n",
      "Chi-Squared Statistic: 2.9429200762850503\n",
      "P-Value: 0.0862546724955095\n",
      "Degrees of Freedom: 1\n",
      "Expected Frequencies:\n",
      "[[632.1 102.9]\n",
      " [ 55.9   9.1]]\n",
      "There is no statistically significant relationship between legendary status and Type 1 (water/non-water) of Pokémon.\n"
     ]
    }
   ],
   "source": [
    "# Your code here:\n",
    "\n",
    "# Create a contingency table using pd.crosstab\n",
    "contingency_table = pd.crosstab(pokemon['Legendary'], pokemon['Type 1'] == 'Water')\n",
    "\n",
    "# Perform the Chi-Square test using chi2_contingency\n",
    "chi2_stat, p_value, dof, expected = chi2_contingency(contingency_table)\n",
    "\n",
    "# Display the Chi-Square test results\n",
    "print(\"Chi-Square Test Results:\")\n",
    "print(\"Chi-Squared Statistic:\", chi2_stat)\n",
    "print(\"P-Value:\", p_value)\n",
    "print(\"Degrees of Freedom:\", dof)\n",
    "print(\"Expected Frequencies:\")\n",
    "print(expected)\n",
    "\n",
    "# Check if the result is statistically significant (using a significance level of 0.05)\n",
    "if p_value < 0.05:\n",
    "    print(\"There is a statistically significant relationship between legendary status and Type 1 (water/non-water) of Pokémon.\")\n",
    "else:\n",
    "    print(\"There is no statistically significant relationship between legendary status and Type 1 (water/non-water) of Pokémon.\")\n",
    "\n"
   ]
  },
  {
   "cell_type": "markdown",
   "metadata": {},
   "source": [
    "Based on a 95% confidence, should we reject the null hypothesis?"
   ]
  },
  {
   "cell_type": "code",
   "execution_count": 40,
   "metadata": {},
   "outputs": [],
   "source": [
    "# Your answer here:\n",
    "\"\"\"we do not reject the null hypothesis, and the analysis suggests that there is no statistically significant relationship between legendary status and Type 1 (water/non-water) of Pokémon based on the dataset and the chosen significance level.\"\"\"\n"
   ]
  },
  {
   "cell_type": "code",
   "execution_count": null,
   "metadata": {},
   "outputs": [],
   "source": []
  }
 ],
 "metadata": {
  "kernelspec": {
   "display_name": "Python 3",
   "language": "python",
   "name": "python3"
  },
  "language_info": {
   "codemirror_mode": {
    "name": "ipython",
    "version": 3
   },
   "file_extension": ".py",
   "mimetype": "text/x-python",
   "name": "python",
   "nbconvert_exporter": "python",
   "pygments_lexer": "ipython3",
   "version": "3.11.4"
  }
 },
 "nbformat": 4,
 "nbformat_minor": 2
}
